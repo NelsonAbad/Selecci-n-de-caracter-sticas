{
 "cells": [
  {
   "cell_type": "markdown",
   "id": "2f486158-5703-4038-be82-269c7c1b24f2",
   "metadata": {},
   "source": [
    "Primero, se importan los datos del archivo `\"A1.4 Vino Tinto.csv\"` al ambiente de trabajo y se revisan las dimensiones del `DataFrame` , despues se imprimen dimensiones y las primeras 5 filas de los datos.\n"
   ]
  },
  {
   "cell_type": "code",
   "execution_count": 48,
   "id": "9ce924d0-4c56-4f5e-976e-004dcdec8197",
   "metadata": {},
   "outputs": [
    {
     "name": "stdout",
     "output_type": "stream",
     "text": [
      "Cantidad de datos y variables: (1599, 12)\n"
     ]
    },
    {
     "data": {
      "text/html": [
       "<div>\n",
       "<style scoped>\n",
       "    .dataframe tbody tr th:only-of-type {\n",
       "        vertical-align: middle;\n",
       "    }\n",
       "\n",
       "    .dataframe tbody tr th {\n",
       "        vertical-align: top;\n",
       "    }\n",
       "\n",
       "    .dataframe thead th {\n",
       "        text-align: right;\n",
       "    }\n",
       "</style>\n",
       "<table border=\"1\" class=\"dataframe\">\n",
       "  <thead>\n",
       "    <tr style=\"text-align: right;\">\n",
       "      <th></th>\n",
       "      <th>acidezFija</th>\n",
       "      <th>acidezVolatil</th>\n",
       "      <th>acidoCitrico</th>\n",
       "      <th>azucarResidual</th>\n",
       "      <th>cloruros</th>\n",
       "      <th>dioxidoAzufreLibre</th>\n",
       "      <th>dioxidoAzufreTotal</th>\n",
       "      <th>densidad</th>\n",
       "      <th>pH</th>\n",
       "      <th>sulfatos</th>\n",
       "      <th>alcohol</th>\n",
       "      <th>calidad</th>\n",
       "    </tr>\n",
       "  </thead>\n",
       "  <tbody>\n",
       "    <tr>\n",
       "      <th>0</th>\n",
       "      <td>7.4</td>\n",
       "      <td>0.70</td>\n",
       "      <td>0.00</td>\n",
       "      <td>1.9</td>\n",
       "      <td>0.076</td>\n",
       "      <td>11.0</td>\n",
       "      <td>34.0</td>\n",
       "      <td>0.9978</td>\n",
       "      <td>3.51</td>\n",
       "      <td>0.56</td>\n",
       "      <td>9.4</td>\n",
       "      <td>5</td>\n",
       "    </tr>\n",
       "    <tr>\n",
       "      <th>1</th>\n",
       "      <td>7.8</td>\n",
       "      <td>0.88</td>\n",
       "      <td>0.00</td>\n",
       "      <td>2.6</td>\n",
       "      <td>0.098</td>\n",
       "      <td>25.0</td>\n",
       "      <td>67.0</td>\n",
       "      <td>0.9968</td>\n",
       "      <td>3.20</td>\n",
       "      <td>0.68</td>\n",
       "      <td>9.8</td>\n",
       "      <td>5</td>\n",
       "    </tr>\n",
       "    <tr>\n",
       "      <th>2</th>\n",
       "      <td>7.8</td>\n",
       "      <td>0.76</td>\n",
       "      <td>0.04</td>\n",
       "      <td>2.3</td>\n",
       "      <td>0.092</td>\n",
       "      <td>15.0</td>\n",
       "      <td>54.0</td>\n",
       "      <td>0.9970</td>\n",
       "      <td>3.26</td>\n",
       "      <td>0.65</td>\n",
       "      <td>9.8</td>\n",
       "      <td>5</td>\n",
       "    </tr>\n",
       "    <tr>\n",
       "      <th>3</th>\n",
       "      <td>11.2</td>\n",
       "      <td>0.28</td>\n",
       "      <td>0.56</td>\n",
       "      <td>1.9</td>\n",
       "      <td>0.075</td>\n",
       "      <td>17.0</td>\n",
       "      <td>60.0</td>\n",
       "      <td>0.9980</td>\n",
       "      <td>3.16</td>\n",
       "      <td>0.58</td>\n",
       "      <td>9.8</td>\n",
       "      <td>6</td>\n",
       "    </tr>\n",
       "    <tr>\n",
       "      <th>4</th>\n",
       "      <td>7.4</td>\n",
       "      <td>0.70</td>\n",
       "      <td>0.00</td>\n",
       "      <td>1.9</td>\n",
       "      <td>0.076</td>\n",
       "      <td>11.0</td>\n",
       "      <td>34.0</td>\n",
       "      <td>0.9978</td>\n",
       "      <td>3.51</td>\n",
       "      <td>0.56</td>\n",
       "      <td>9.4</td>\n",
       "      <td>5</td>\n",
       "    </tr>\n",
       "  </tbody>\n",
       "</table>\n",
       "</div>"
      ],
      "text/plain": [
       "   acidezFija  acidezVolatil  acidoCitrico  azucarResidual  cloruros  \\\n",
       "0         7.4           0.70          0.00             1.9     0.076   \n",
       "1         7.8           0.88          0.00             2.6     0.098   \n",
       "2         7.8           0.76          0.04             2.3     0.092   \n",
       "3        11.2           0.28          0.56             1.9     0.075   \n",
       "4         7.4           0.70          0.00             1.9     0.076   \n",
       "\n",
       "   dioxidoAzufreLibre  dioxidoAzufreTotal  densidad    pH  sulfatos  alcohol  \\\n",
       "0                11.0                34.0    0.9978  3.51      0.56      9.4   \n",
       "1                25.0                67.0    0.9968  3.20      0.68      9.8   \n",
       "2                15.0                54.0    0.9970  3.26      0.65      9.8   \n",
       "3                17.0                60.0    0.9980  3.16      0.58      9.8   \n",
       "4                11.0                34.0    0.9978  3.51      0.56      9.4   \n",
       "\n",
       "   calidad  \n",
       "0        5  \n",
       "1        5  \n",
       "2        5  \n",
       "3        6  \n",
       "4        5  "
      ]
     },
     "execution_count": 48,
     "metadata": {},
     "output_type": "execute_result"
    }
   ],
   "source": [
    "import pandas as pd\n",
    "\n",
    "df = pd.read_csv(\"A1.4 Vino Tinto.csv\")\n",
    "print(\"Cantidad de datos y variables:\",df.shape)\n",
    "df.head()"
   ]
  },
  {
   "cell_type": "markdown",
   "id": "79c5ade6-f1cb-4db3-9815-79038327507d",
   "metadata": {},
   "source": [
    "Utilizando la función `sample` de `pandas`, dividimos la base de datos en dos subconjuntos, `train` (80% de los datos) y `test` (20% restante). "
   ]
  },
  {
   "cell_type": "code",
   "execution_count": 46,
   "id": "0cdbdb7e-ca1e-48d9-8a56-d063f8d6f0c8",
   "metadata": {},
   "outputs": [
    {
     "name": "stdout",
     "output_type": "stream",
     "text": [
      "(1279, 12)\n",
      "(320, 12)\n",
      "1599\n"
     ]
    }
   ],
   "source": [
    "import pandas as pd\n",
    "\n",
    "train = df.sample(frac=0.8, random_state=42)\n",
    "test = df.drop(train.index)                 \n",
    "\n",
    "print(\"Train:\",train.shape)\n",
    "print(\"Test:\",test.shape)\n",
    "\n",
    "print(train.shape[0] + test.shape[0])"
   ]
  },
  {
   "cell_type": "markdown",
   "id": "cd047712-3b50-42d8-bcea-2443f9e57b31",
   "metadata": {},
   "source": [
    "Ahora implementaremos la seleccion hacia adelante, la cual nos permite seleccionar la cantidad de variables mas optima para usar en nuestro modelo. Esto se basa en ir usando las variables una por una y ademas, usar las combinaciones con otras variables, asi hasta tener un conjunto donde usamos todas las variables. En este caso se usaran diferentes parametros dentor de la funcion `SequentialFeatureSelector`. Aqui se ecuentran el \n",
    "- **`estimator`**: Define que modelo se usara, en este caso `LinearRegression`.\n",
    "- **`k_features`**: El rango del número de variables a seleccionar. Por ejemplo `(2, 8)`.\n",
    "- **`forward`**: Determina si es seleccion hacia adelante (True) o hacia atras (false).\n",
    "- **`scoring`**: La métrica para evaluar el modelo, en este caso sera R cuadrada.\n",
    "- **`cv`**: Número de particiones para validación cruzada."
   ]
  },
  {
   "cell_type": "code",
   "execution_count": 59,
   "id": "9f69ec1a-8d9a-41f8-a378-5b14bdf509b4",
   "metadata": {},
   "outputs": [
    {
     "name": "stdout",
     "output_type": "stream",
     "text": [
      "Indices de las características seleccionadas: (1, 4, 5, 6, 8, 9, 10)\n",
      "Características seleccionadas: ['acidezVolatil', 'cloruros', 'dioxidoAzufreLibre', 'dioxidoAzufreTotal', 'pH', 'sulfatos', 'alcohol']\n"
     ]
    }
   ],
   "source": [
    "from sklearn.linear_model import LinearRegression\n",
    "from mlxtend.feature_selection import SequentialFeatureSelector\n",
    "\n",
    "forwardSel = SequentialFeatureSelector(estimator = LinearRegression(), k_features = (2,8), forward = True, scoring = \"r2\", cv = 10)\n",
    "forwardSel = forwardSel.fit(X,Y)\n",
    "\n",
    "print(\"Indices de las características seleccionadas:\", forwardSel.k_feature_idx_)\n",
    "print(\"Características seleccionadas:\", list(forwardSel.k_feature_names_))"
   ]
  },
  {
   "cell_type": "markdown",
   "id": "22ba9093-904b-4626-9ec9-eb6395ffd919",
   "metadata": {},
   "source": [
    "Despues de hacer la seleccion hacia adelante, entrenamos un modelo con dichas variables selecciondas. Estas las usaremos la funcion `predict` para predecir nuestro muestreo `Train` y usaremos la R cuadrada para hacer el anaisis."
   ]
  },
  {
   "cell_type": "code",
   "execution_count": 60,
   "id": "643eff2a-14df-4928-b885-ecd0fa0d5858",
   "metadata": {},
   "outputs": [
    {
     "name": "stdout",
     "output_type": "stream",
     "text": [
      "R2 : 0.4242250763140887\n"
     ]
    }
   ],
   "source": [
    "from sklearn.linear_model import LinearRegression\n",
    "from sklearn.metrics import r2_score\n",
    "\n",
    "fowardVar = list(forwardSel.k_feature_names_)\n",
    "\n",
    "xTrain = train[fowardVar]\n",
    "yTrain = train.calidad\n",
    "\n",
    "model = LinearRegression()\n",
    "model.fit(xTrain, yTrain)\n",
    "\n",
    "xTest = test[fowardVar]\n",
    "yTest = test.calidad\n",
    "\n",
    "yPred = model.predict(xTest)\n",
    "\n",
    "r2 = r2_score(yTest, yPred)\n",
    "print(\"R2 :\", r2)"
   ]
  },
  {
   "cell_type": "markdown",
   "id": "88aa71b6-3c13-4ad2-aa4f-e44e8d2bed12",
   "metadata": {},
   "source": [
    "Despues, haremos una seleccion hacia atras sobre la misma seleccion hacia adelante que ya hicimos, esto tambien se le conoce como seleccion mixta. A diferencia de la anterior, en este caso los rangos de `k_features` seran de 2 a 5 y como queremos hacerlo hacia atras, el parametro forward sera Falso. Una vez hecho esto, repetiremos la creacion del modelo pero ahora con las variables seleccionadas por la seleccion mixta."
   ]
  },
  {
   "cell_type": "code",
   "execution_count": 61,
   "id": "4d8ec5be-252d-4924-ae1c-24fcfa1f8402",
   "metadata": {},
   "outputs": [
    {
     "name": "stdout",
     "output_type": "stream",
     "text": [
      "Indices de las características seleccionadas: (1, 4, 6, 9, 10)\n",
      "Características seleccionadas: ['acidezVolatil', 'cloruros', 'dioxidoAzufreTotal', 'sulfatos', 'alcohol']\n",
      "R2 : 0.4394113030555302\n"
     ]
    }
   ],
   "source": [
    "backwardSel = SequentialFeatureSelector(estimator = LinearRegression(), k_features = (2,5), forward = False, scoring = \"r2\", cv = 10)\n",
    "backwardSel = backwardSel.fit(X,Y)\n",
    "\n",
    "print(\"Indices de las características seleccionadas:\", backwardSel.k_feature_idx_)\n",
    "print(\"Características seleccionadas:\", list(backwardSel.k_feature_names_))\n",
    "\n",
    "backwardVar = list(backwardSel.k_feature_names_)\n",
    "\n",
    "xTrain = train[backwardVar]\n",
    "yTrain = train.calidad\n",
    "\n",
    "model = LinearRegression()\n",
    "model.fit(xTrain, yTrain)\n",
    "\n",
    "xTest = test[backwardVar]\n",
    "yTest = test.calidad\n",
    "\n",
    "yPred = model.predict(xTest)\n",
    "\n",
    "r2 = r2_score(yTest, yPred)\n",
    "print(\"R2 :\", r2)"
   ]
  },
  {
   "cell_type": "markdown",
   "id": "6d7a2c27-c4ba-4eb1-a4c8-cf5d950c977f",
   "metadata": {},
   "source": [
    "Despues de realizar ambos modelos, se puede observer que ambas R's cuadradas tienen valores muy similares, apesar de dividir los ambientes de forma randomizada, los valores tienden a tener diferencias de decimales. Con esto en mente, podemos llegar a la conclusion de que el modelo de seleccion mixta tendria mejores resultados, a pesar de ser una diferencia minima, tambien podemos considerar que se estan usando menos variables y consigue de mejor manera predecir lo que tambien hace el modelo de seleccion hacia adelante pero con mas variables. Por lo que, considero que el segundo modelo, o sea el de seleccion mixta, es mejor."
   ]
  }
 ],
 "metadata": {
  "kernelspec": {
   "display_name": "Python [conda env:base] *",
   "language": "python",
   "name": "conda-base-py"
  },
  "language_info": {
   "codemirror_mode": {
    "name": "ipython",
    "version": 3
   },
   "file_extension": ".py",
   "mimetype": "text/x-python",
   "name": "python",
   "nbconvert_exporter": "python",
   "pygments_lexer": "ipython3",
   "version": "3.13.5"
  }
 },
 "nbformat": 4,
 "nbformat_minor": 5
}
